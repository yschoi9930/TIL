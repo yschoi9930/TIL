{
  "nbformat": 4,
  "nbformat_minor": 0,
  "metadata": {
    "colab": {
      "private_outputs": true,
      "provenance": [],
      "authorship_tag": "ABX9TyOvKxEAdocHp7B1TjPLCwU6",
      "include_colab_link": true
    },
    "kernelspec": {
      "name": "python3",
      "display_name": "Python 3"
    },
    "language_info": {
      "name": "python"
    }
  },
  "cells": [
    {
      "cell_type": "markdown",
      "metadata": {
        "id": "view-in-github",
        "colab_type": "text"
      },
      "source": [
        "<a href=\"https://colab.research.google.com/github/yschoi9930/TIL/blob/master/CHAPTER3_%EB%82%B4%EC%9E%A5%EC%9E%90%EB%A3%8C%EA%B5%AC%EC%A1%B0%2C%ED%95%A8%EC%88%98%2C_%ED%8C%8C%EC%9D%BC.ipynb\" target=\"_parent\"><img src=\"https://colab.research.google.com/assets/colab-badge.svg\" alt=\"Open In Colab\"/></a>"
      ]
    },
    {
      "cell_type": "markdown",
      "source": [
        "# CHAPTER3  내장자료구조,함수, 파일"
      ],
      "metadata": {
        "id": "phLqzlKYngLM"
      }
    },
    {
      "cell_type": "markdown",
      "source": [
        "## 3.1 자료구조와 순차 자료"
      ],
      "metadata": {
        "id": "8bmsP2WBnb6b"
      }
    },
    {
      "cell_type": "markdown",
      "source": [
        "### 3.1.1 튜플\n",
        " \n",
        "- 1차원의 고정된 크기를 가지는 변경 불가능한 순차 자료형\n",
        "- 괄호를 사용해서 묶어줌으로써 중첩된 튜플 정의 가능 \n",
        "- 모든 순차 자료형이나 이터레이터는 tuple 메서드를 호출해 튜플로 변환 가능\n",
        "  -  이터레이터?? : \n",
        "  내부 요소를 하나씩 리턴할 수 있는 객체는 iterable 하다고 표현\n",
        "  BUT, iterable한 것 중 __next__ 메소드를 가진 것을 Iterator라 함\n",
        "  iter함수/__iter__메소드를 활용해 iterable한 변수를 iterator로 바꿀 수 있음\n",
        "- 튜플에 저장된 객체 자체는 변경이 가능하지만 한 번 생성되면 각 슬롯에 저장된 객체를 변경하는 것은 불가능하다.\n",
        "- 튜플 내에 저장된 객체는 그 위치에서 바로 변경이 가능\n",
        "- 연산자를 이용해서 튜플을 이어 붙일 수 있다.\n",
        "- 튜플에 정수를 곱하면 복사본이 반복되어 늘어남"
      ],
      "metadata": {
        "id": "RxpE5laanpmB"
      }
    },
    {
      "cell_type": "code",
      "source": [
        "tup = 4,5,6\n",
        "tup"
      ],
      "metadata": {
        "id": "S8ViEnKwnnK8"
      },
      "execution_count": null,
      "outputs": []
    },
    {
      "cell_type": "code",
      "source": [
        "nested_tup = (4,5,6),(7,8)\n",
        "nested_tup"
      ],
      "metadata": {
        "id": "3pZJdhm9r3YS"
      },
      "execution_count": null,
      "outputs": []
    },
    {
      "cell_type": "code",
      "source": [
        "list_1 = [4,0,2]\n",
        "tup = tuple(list_1)\n",
        "tup\n",
        "\n",
        "tup = tuple('string')\n",
        "tup"
      ],
      "metadata": {
        "id": "iIteJ7aGr3sl"
      },
      "execution_count": null,
      "outputs": []
    },
    {
      "cell_type": "code",
      "source": [
        "tup[0]"
      ],
      "metadata": {
        "id": "QTSnsG_Tr416"
      },
      "execution_count": null,
      "outputs": []
    },
    {
      "cell_type": "code",
      "source": [
        "tup = tuple(['foo',[1,2],True])\n",
        "tup[2] = False"
      ],
      "metadata": {
        "id": "YhPdNpEGr3wR"
      },
      "execution_count": null,
      "outputs": []
    },
    {
      "cell_type": "code",
      "source": [
        "tup[1].append(3)\n",
        "tup"
      ],
      "metadata": {
        "id": "4hOihakpr30M"
      },
      "execution_count": null,
      "outputs": []
    },
    {
      "cell_type": "code",
      "source": [
        "# 튜플에서 값 분리하기\n",
        "# 튜플과 같은 표현의 변수에 튜플을 대입하면 파이썬은 등호 오른쪽에 있는 변수에서 값을 분리함\n",
        "# 중첩된 튜플을 포함해도 가능\n",
        "tup = (4,5,6)\n",
        "a,b,c = tup\n",
        "b\n",
        "\n",
        "tup = 4,5,(6,7)\n",
        "a,b,(c,d) = tup\n",
        "d"
      ],
      "metadata": {
        "id": "915qGRO-r33q"
      },
      "execution_count": null,
      "outputs": []
    },
    {
      "cell_type": "code",
      "source": [
        "# 이 방법을 통해 변수의 이름을 바꾸는 것을 쉽게 처리할 수 있음\n",
        "\n",
        "a,b = 1,2\n",
        "\n",
        "b,a, = a,b\n",
        "\n",
        "b"
      ],
      "metadata": {
        "id": "yi35G5NKr37c"
      },
      "execution_count": null,
      "outputs": []
    },
    {
      "cell_type": "code",
      "source": [
        "# 튜플의 처음 몇몇 값을 끄집어내야 하는 상황을 위해 특수한 문법인 *rest를 사용\n",
        "# 함수의 시그니처에서 길이를 알 수 없는 긴 인자를 담기 위한 방법으로도 사용\n",
        "\n",
        "values = 1,2,3,4,5\n",
        "\n",
        "a,b, *rest = values\n",
        "\n",
        "a,b,rest"
      ],
      "metadata": {
        "id": "R2FMuK1uNIDV"
      },
      "execution_count": null,
      "outputs": []
    },
    {
      "cell_type": "code",
      "source": [
        "# 튜플의 크기와 내용은 변경이 불가능해 인스턴스 메서드가 많지 않음\n",
        "# count 메서드 정도 사용 -> 튜플 내의 주어진 값이 몇개 있는지 반환\n",
        "\n",
        "a = (1,2,2,2,3,4,2)\n",
        "a.count(2)"
      ],
      "metadata": {
        "id": "_cBV1thxNIKw"
      },
      "execution_count": null,
      "outputs": []
    },
    {
      "cell_type": "markdown",
      "source": [
        "### 3.1.2 리스트\n",
        "- 튜플과 대조적으로 리스트는 크기나 내용의 변경이 가능\n",
        "- 대괄호나 list함수를 사용해서 생성\n",
        "- list 함수는 이터레이터나 제너레이터 표현에서 실제 값을 모두 담기 위한 용도로도 자주 사용"
      ],
      "metadata": {
        "id": "BxWmwXLANIOc"
      }
    },
    {
      "cell_type": "code",
      "source": [
        "a_list = [2,3,7,None]\n",
        "tup = ('foo','bar','baz')\n",
        "\n",
        "b_list = list(tup)\n",
        "b_list\n",
        "\n",
        "b_list[1] = 'peekaboo'\n",
        "b_list"
      ],
      "metadata": {
        "id": "wS0OQQoWNIR8"
      },
      "execution_count": null,
      "outputs": []
    },
    {
      "cell_type": "code",
      "source": [
        "gen = range(10)\n",
        "\n",
        "gen\n",
        "list(gen)"
      ],
      "metadata": {
        "id": "f8l3gyOfNIYU"
      },
      "execution_count": null,
      "outputs": []
    },
    {
      "cell_type": "code",
      "source": [
        "# 원소 추가하고 삭제하기\n",
        "b_list.append('dwarf')\n",
        "b_list"
      ],
      "metadata": {
        "id": "nKxh323sPaQZ"
      },
      "execution_count": null,
      "outputs": []
    },
    {
      "cell_type": "code",
      "source": [
        "# insert 메서드를 사용해서 리스트의 특정 위치에 값 추가 가능\n",
        "# insert는 append에 비해 연산비용이 많이 든다\n",
        "b_list.insert(1,'red')\n",
        "b_list"
      ],
      "metadata": {
        "id": "FfZDp8d3PaTx"
      },
      "execution_count": null,
      "outputs": []
    },
    {
      "cell_type": "code",
      "source": [
        "# pop 메서드를 사용해서 특정 위치의 값을 반환하고 해당 값을 리스트에서 삭제\n",
        "b_list.pop(2)\n",
        "b_list"
      ],
      "metadata": {
        "id": "WINxNLdUPaXi"
      },
      "execution_count": null,
      "outputs": []
    },
    {
      "cell_type": "code",
      "source": [
        "# remove 메서드를 이용해서 원소를 삭제 가능, 삭제는 리스트에서 제일 앞에 위치한 값부터 이루어진다."
      ],
      "metadata": {
        "id": "alPcpOWKPaa6"
      },
      "execution_count": null,
      "outputs": []
    },
    {
      "cell_type": "code",
      "source": [],
      "metadata": {
        "id": "fM9IMKVHPaeY"
      },
      "execution_count": null,
      "outputs": []
    },
    {
      "cell_type": "code",
      "source": [],
      "metadata": {
        "id": "yJN7OICWPaik"
      },
      "execution_count": null,
      "outputs": []
    }
  ]
}